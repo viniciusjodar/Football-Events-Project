{
 "cells": [
  {
   "cell_type": "markdown",
   "id": "b3d08bc8",
   "metadata": {},
   "source": [
    " ## **Project Football Analysis Match Events**"
   ]
  },
  {
   "cell_type": "markdown",
   "id": "d85673b4",
   "metadata": {},
   "source": [
    "##### *This project analyzes match events from the biggest 5 European football league: England, Spain, Germany, Italy, France from 2011/2012 season to 2016/2017 season as of 25.01.2017. Based on 'events.csv' files*"
   ]
  },
  {
   "cell_type": "code",
   "execution_count": 83,
   "id": "3ef9ddda",
   "metadata": {},
   "outputs": [],
   "source": [
    "import pandas as pd\n",
    "import numpy as np\n",
    "import matplotlib.pyplot as plt\n",
    "import seaborn as sns\n"
   ]
  },
  {
   "cell_type": "code",
   "execution_count": 84,
   "id": "d8e76b09",
   "metadata": {},
   "outputs": [],
   "source": [
    "df_events = pd.read_csv('events.csv/events.csv')"
   ]
  },
  {
   "cell_type": "code",
   "execution_count": 85,
   "id": "82951103",
   "metadata": {},
   "outputs": [
    {
     "data": {
      "text/html": [
       "<div>\n",
       "<style scoped>\n",
       "    .dataframe tbody tr th:only-of-type {\n",
       "        vertical-align: middle;\n",
       "    }\n",
       "\n",
       "    .dataframe tbody tr th {\n",
       "        vertical-align: top;\n",
       "    }\n",
       "\n",
       "    .dataframe thead th {\n",
       "        text-align: right;\n",
       "    }\n",
       "</style>\n",
       "<table border=\"1\" class=\"dataframe\">\n",
       "  <thead>\n",
       "    <tr style=\"text-align: right;\">\n",
       "      <th></th>\n",
       "      <th>id_odsp</th>\n",
       "      <th>id_event</th>\n",
       "      <th>sort_order</th>\n",
       "      <th>time</th>\n",
       "      <th>text</th>\n",
       "      <th>event_type</th>\n",
       "      <th>event_type2</th>\n",
       "      <th>side</th>\n",
       "      <th>event_team</th>\n",
       "      <th>opponent</th>\n",
       "      <th>player</th>\n",
       "      <th>player2</th>\n",
       "      <th>player_in</th>\n",
       "      <th>player_out</th>\n",
       "      <th>shot_place</th>\n",
       "      <th>shot_outcome</th>\n",
       "      <th>is_goal</th>\n",
       "      <th>location</th>\n",
       "      <th>bodypart</th>\n",
       "      <th>assist_method</th>\n",
       "      <th>situation</th>\n",
       "      <th>fast_break</th>\n",
       "    </tr>\n",
       "  </thead>\n",
       "  <tbody>\n",
       "    <tr>\n",
       "      <th>0</th>\n",
       "      <td>UFot0hit/</td>\n",
       "      <td>UFot0hit1</td>\n",
       "      <td>1</td>\n",
       "      <td>2</td>\n",
       "      <td>Attempt missed. Mladen Petric (Hamburg) left f...</td>\n",
       "      <td>1</td>\n",
       "      <td>12.0</td>\n",
       "      <td>2</td>\n",
       "      <td>Hamburg SV</td>\n",
       "      <td>Borussia Dortmund</td>\n",
       "      <td>mladen petric</td>\n",
       "      <td>gokhan tore</td>\n",
       "      <td>NaN</td>\n",
       "      <td>NaN</td>\n",
       "      <td>6.0</td>\n",
       "      <td>2.0</td>\n",
       "      <td>0</td>\n",
       "      <td>9.0</td>\n",
       "      <td>2.0</td>\n",
       "      <td>1</td>\n",
       "      <td>1.0</td>\n",
       "      <td>0</td>\n",
       "    </tr>\n",
       "    <tr>\n",
       "      <th>1</th>\n",
       "      <td>UFot0hit/</td>\n",
       "      <td>UFot0hit2</td>\n",
       "      <td>2</td>\n",
       "      <td>4</td>\n",
       "      <td>Corner,  Borussia Dortmund. Conceded by Dennis...</td>\n",
       "      <td>2</td>\n",
       "      <td>NaN</td>\n",
       "      <td>1</td>\n",
       "      <td>Borussia Dortmund</td>\n",
       "      <td>Hamburg SV</td>\n",
       "      <td>dennis diekmeier</td>\n",
       "      <td>dennis diekmeier</td>\n",
       "      <td>NaN</td>\n",
       "      <td>NaN</td>\n",
       "      <td>NaN</td>\n",
       "      <td>NaN</td>\n",
       "      <td>0</td>\n",
       "      <td>NaN</td>\n",
       "      <td>NaN</td>\n",
       "      <td>0</td>\n",
       "      <td>NaN</td>\n",
       "      <td>0</td>\n",
       "    </tr>\n",
       "    <tr>\n",
       "      <th>2</th>\n",
       "      <td>UFot0hit/</td>\n",
       "      <td>UFot0hit3</td>\n",
       "      <td>3</td>\n",
       "      <td>4</td>\n",
       "      <td>Corner,  Borussia Dortmund. Conceded by Heiko ...</td>\n",
       "      <td>2</td>\n",
       "      <td>NaN</td>\n",
       "      <td>1</td>\n",
       "      <td>Borussia Dortmund</td>\n",
       "      <td>Hamburg SV</td>\n",
       "      <td>heiko westermann</td>\n",
       "      <td>heiko westermann</td>\n",
       "      <td>NaN</td>\n",
       "      <td>NaN</td>\n",
       "      <td>NaN</td>\n",
       "      <td>NaN</td>\n",
       "      <td>0</td>\n",
       "      <td>NaN</td>\n",
       "      <td>NaN</td>\n",
       "      <td>0</td>\n",
       "      <td>NaN</td>\n",
       "      <td>0</td>\n",
       "    </tr>\n",
       "    <tr>\n",
       "      <th>3</th>\n",
       "      <td>UFot0hit/</td>\n",
       "      <td>UFot0hit4</td>\n",
       "      <td>4</td>\n",
       "      <td>7</td>\n",
       "      <td>Foul by Sven Bender (Borussia Dortmund).</td>\n",
       "      <td>3</td>\n",
       "      <td>NaN</td>\n",
       "      <td>1</td>\n",
       "      <td>Borussia Dortmund</td>\n",
       "      <td>Hamburg SV</td>\n",
       "      <td>sven bender</td>\n",
       "      <td>NaN</td>\n",
       "      <td>NaN</td>\n",
       "      <td>NaN</td>\n",
       "      <td>NaN</td>\n",
       "      <td>NaN</td>\n",
       "      <td>0</td>\n",
       "      <td>NaN</td>\n",
       "      <td>NaN</td>\n",
       "      <td>0</td>\n",
       "      <td>NaN</td>\n",
       "      <td>0</td>\n",
       "    </tr>\n",
       "    <tr>\n",
       "      <th>4</th>\n",
       "      <td>UFot0hit/</td>\n",
       "      <td>UFot0hit5</td>\n",
       "      <td>5</td>\n",
       "      <td>7</td>\n",
       "      <td>Gokhan Tore (Hamburg) wins a free kick in the ...</td>\n",
       "      <td>8</td>\n",
       "      <td>NaN</td>\n",
       "      <td>2</td>\n",
       "      <td>Hamburg SV</td>\n",
       "      <td>Borussia Dortmund</td>\n",
       "      <td>gokhan tore</td>\n",
       "      <td>NaN</td>\n",
       "      <td>NaN</td>\n",
       "      <td>NaN</td>\n",
       "      <td>NaN</td>\n",
       "      <td>NaN</td>\n",
       "      <td>0</td>\n",
       "      <td>2.0</td>\n",
       "      <td>NaN</td>\n",
       "      <td>0</td>\n",
       "      <td>NaN</td>\n",
       "      <td>0</td>\n",
       "    </tr>\n",
       "    <tr>\n",
       "      <th>...</th>\n",
       "      <td>...</td>\n",
       "      <td>...</td>\n",
       "      <td>...</td>\n",
       "      <td>...</td>\n",
       "      <td>...</td>\n",
       "      <td>...</td>\n",
       "      <td>...</td>\n",
       "      <td>...</td>\n",
       "      <td>...</td>\n",
       "      <td>...</td>\n",
       "      <td>...</td>\n",
       "      <td>...</td>\n",
       "      <td>...</td>\n",
       "      <td>...</td>\n",
       "      <td>...</td>\n",
       "      <td>...</td>\n",
       "      <td>...</td>\n",
       "      <td>...</td>\n",
       "      <td>...</td>\n",
       "      <td>...</td>\n",
       "      <td>...</td>\n",
       "      <td>...</td>\n",
       "    </tr>\n",
       "    <tr>\n",
       "      <th>941004</th>\n",
       "      <td>z5L2OT5E/</td>\n",
       "      <td>z5L2OT5E123</td>\n",
       "      <td>123</td>\n",
       "      <td>92</td>\n",
       "      <td>Lucas Torreira (Sampdoria) wins a free kick in...</td>\n",
       "      <td>8</td>\n",
       "      <td>NaN</td>\n",
       "      <td>2</td>\n",
       "      <td>Sampdoria</td>\n",
       "      <td>Atalanta</td>\n",
       "      <td>lucas torreira</td>\n",
       "      <td>NaN</td>\n",
       "      <td>NaN</td>\n",
       "      <td>NaN</td>\n",
       "      <td>NaN</td>\n",
       "      <td>NaN</td>\n",
       "      <td>0</td>\n",
       "      <td>2.0</td>\n",
       "      <td>NaN</td>\n",
       "      <td>0</td>\n",
       "      <td>NaN</td>\n",
       "      <td>0</td>\n",
       "    </tr>\n",
       "    <tr>\n",
       "      <th>941005</th>\n",
       "      <td>z5L2OT5E/</td>\n",
       "      <td>z5L2OT5E124</td>\n",
       "      <td>124</td>\n",
       "      <td>93</td>\n",
       "      <td>Corner,  Sampdoria. Conceded by Andrea Masiello.</td>\n",
       "      <td>2</td>\n",
       "      <td>NaN</td>\n",
       "      <td>2</td>\n",
       "      <td>Sampdoria</td>\n",
       "      <td>Atalanta</td>\n",
       "      <td>NaN</td>\n",
       "      <td>NaN</td>\n",
       "      <td>NaN</td>\n",
       "      <td>NaN</td>\n",
       "      <td>NaN</td>\n",
       "      <td>NaN</td>\n",
       "      <td>0</td>\n",
       "      <td>NaN</td>\n",
       "      <td>NaN</td>\n",
       "      <td>0</td>\n",
       "      <td>NaN</td>\n",
       "      <td>0</td>\n",
       "    </tr>\n",
       "    <tr>\n",
       "      <th>941006</th>\n",
       "      <td>z5L2OT5E/</td>\n",
       "      <td>z5L2OT5E125</td>\n",
       "      <td>125</td>\n",
       "      <td>93</td>\n",
       "      <td>Attempt missed. Fabio Quagliarella (Sampdoria)...</td>\n",
       "      <td>1</td>\n",
       "      <td>12.0</td>\n",
       "      <td>2</td>\n",
       "      <td>Sampdoria</td>\n",
       "      <td>Atalanta</td>\n",
       "      <td>fabio quagliarella</td>\n",
       "      <td>lucas torreira</td>\n",
       "      <td>NaN</td>\n",
       "      <td>NaN</td>\n",
       "      <td>8.0</td>\n",
       "      <td>2.0</td>\n",
       "      <td>0</td>\n",
       "      <td>9.0</td>\n",
       "      <td>1.0</td>\n",
       "      <td>1</td>\n",
       "      <td>3.0</td>\n",
       "      <td>0</td>\n",
       "    </tr>\n",
       "    <tr>\n",
       "      <th>941007</th>\n",
       "      <td>z5L2OT5E/</td>\n",
       "      <td>z5L2OT5E126</td>\n",
       "      <td>126</td>\n",
       "      <td>94</td>\n",
       "      <td>Alberto Grassi (Atalanta) wins a free kick on ...</td>\n",
       "      <td>8</td>\n",
       "      <td>NaN</td>\n",
       "      <td>1</td>\n",
       "      <td>Atalanta</td>\n",
       "      <td>Sampdoria</td>\n",
       "      <td>alberto grassi</td>\n",
       "      <td>NaN</td>\n",
       "      <td>NaN</td>\n",
       "      <td>NaN</td>\n",
       "      <td>NaN</td>\n",
       "      <td>NaN</td>\n",
       "      <td>0</td>\n",
       "      <td>4.0</td>\n",
       "      <td>NaN</td>\n",
       "      <td>0</td>\n",
       "      <td>NaN</td>\n",
       "      <td>0</td>\n",
       "    </tr>\n",
       "    <tr>\n",
       "      <th>941008</th>\n",
       "      <td>z5L2OT5E/</td>\n",
       "      <td>z5L2OT5E127</td>\n",
       "      <td>127</td>\n",
       "      <td>94</td>\n",
       "      <td>Foul by Pedro Pereira (Sampdoria).</td>\n",
       "      <td>3</td>\n",
       "      <td>NaN</td>\n",
       "      <td>2</td>\n",
       "      <td>Sampdoria</td>\n",
       "      <td>Atalanta</td>\n",
       "      <td>pedro pereira</td>\n",
       "      <td>NaN</td>\n",
       "      <td>NaN</td>\n",
       "      <td>NaN</td>\n",
       "      <td>NaN</td>\n",
       "      <td>NaN</td>\n",
       "      <td>0</td>\n",
       "      <td>NaN</td>\n",
       "      <td>NaN</td>\n",
       "      <td>0</td>\n",
       "      <td>NaN</td>\n",
       "      <td>0</td>\n",
       "    </tr>\n",
       "  </tbody>\n",
       "</table>\n",
       "<p>941009 rows × 22 columns</p>\n",
       "</div>"
      ],
      "text/plain": [
       "          id_odsp     id_event  sort_order  time  \\\n",
       "0       UFot0hit/    UFot0hit1           1     2   \n",
       "1       UFot0hit/    UFot0hit2           2     4   \n",
       "2       UFot0hit/    UFot0hit3           3     4   \n",
       "3       UFot0hit/    UFot0hit4           4     7   \n",
       "4       UFot0hit/    UFot0hit5           5     7   \n",
       "...           ...          ...         ...   ...   \n",
       "941004  z5L2OT5E/  z5L2OT5E123         123    92   \n",
       "941005  z5L2OT5E/  z5L2OT5E124         124    93   \n",
       "941006  z5L2OT5E/  z5L2OT5E125         125    93   \n",
       "941007  z5L2OT5E/  z5L2OT5E126         126    94   \n",
       "941008  z5L2OT5E/  z5L2OT5E127         127    94   \n",
       "\n",
       "                                                     text  event_type  \\\n",
       "0       Attempt missed. Mladen Petric (Hamburg) left f...           1   \n",
       "1       Corner,  Borussia Dortmund. Conceded by Dennis...           2   \n",
       "2       Corner,  Borussia Dortmund. Conceded by Heiko ...           2   \n",
       "3                Foul by Sven Bender (Borussia Dortmund).           3   \n",
       "4       Gokhan Tore (Hamburg) wins a free kick in the ...           8   \n",
       "...                                                   ...         ...   \n",
       "941004  Lucas Torreira (Sampdoria) wins a free kick in...           8   \n",
       "941005   Corner,  Sampdoria. Conceded by Andrea Masiello.           2   \n",
       "941006  Attempt missed. Fabio Quagliarella (Sampdoria)...           1   \n",
       "941007  Alberto Grassi (Atalanta) wins a free kick on ...           8   \n",
       "941008                 Foul by Pedro Pereira (Sampdoria).           3   \n",
       "\n",
       "        event_type2  side         event_team           opponent  \\\n",
       "0              12.0     2         Hamburg SV  Borussia Dortmund   \n",
       "1               NaN     1  Borussia Dortmund         Hamburg SV   \n",
       "2               NaN     1  Borussia Dortmund         Hamburg SV   \n",
       "3               NaN     1  Borussia Dortmund         Hamburg SV   \n",
       "4               NaN     2         Hamburg SV  Borussia Dortmund   \n",
       "...             ...   ...                ...                ...   \n",
       "941004          NaN     2          Sampdoria           Atalanta   \n",
       "941005          NaN     2          Sampdoria           Atalanta   \n",
       "941006         12.0     2          Sampdoria           Atalanta   \n",
       "941007          NaN     1           Atalanta          Sampdoria   \n",
       "941008          NaN     2          Sampdoria           Atalanta   \n",
       "\n",
       "                    player           player2 player_in player_out  shot_place  \\\n",
       "0            mladen petric       gokhan tore       NaN        NaN         6.0   \n",
       "1         dennis diekmeier  dennis diekmeier       NaN        NaN         NaN   \n",
       "2         heiko westermann  heiko westermann       NaN        NaN         NaN   \n",
       "3              sven bender               NaN       NaN        NaN         NaN   \n",
       "4              gokhan tore               NaN       NaN        NaN         NaN   \n",
       "...                    ...               ...       ...        ...         ...   \n",
       "941004      lucas torreira               NaN       NaN        NaN         NaN   \n",
       "941005                 NaN               NaN       NaN        NaN         NaN   \n",
       "941006  fabio quagliarella    lucas torreira       NaN        NaN         8.0   \n",
       "941007      alberto grassi               NaN       NaN        NaN         NaN   \n",
       "941008       pedro pereira               NaN       NaN        NaN         NaN   \n",
       "\n",
       "        shot_outcome  is_goal  location  bodypart  assist_method  situation  \\\n",
       "0                2.0        0       9.0       2.0              1        1.0   \n",
       "1                NaN        0       NaN       NaN              0        NaN   \n",
       "2                NaN        0       NaN       NaN              0        NaN   \n",
       "3                NaN        0       NaN       NaN              0        NaN   \n",
       "4                NaN        0       2.0       NaN              0        NaN   \n",
       "...              ...      ...       ...       ...            ...        ...   \n",
       "941004           NaN        0       2.0       NaN              0        NaN   \n",
       "941005           NaN        0       NaN       NaN              0        NaN   \n",
       "941006           2.0        0       9.0       1.0              1        3.0   \n",
       "941007           NaN        0       4.0       NaN              0        NaN   \n",
       "941008           NaN        0       NaN       NaN              0        NaN   \n",
       "\n",
       "        fast_break  \n",
       "0                0  \n",
       "1                0  \n",
       "2                0  \n",
       "3                0  \n",
       "4                0  \n",
       "...            ...  \n",
       "941004           0  \n",
       "941005           0  \n",
       "941006           0  \n",
       "941007           0  \n",
       "941008           0  \n",
       "\n",
       "[941009 rows x 22 columns]"
      ]
     },
     "execution_count": 85,
     "metadata": {},
     "output_type": "execute_result"
    }
   ],
   "source": [
    "pd.set_option('display.max_columns', None)\n",
    "df_events\n"
   ]
  },
  {
   "cell_type": "markdown",
   "id": "1a7ec113",
   "metadata": {},
   "source": [
    "**Data Cleaning**"
   ]
  },
  {
   "cell_type": "code",
   "execution_count": 86,
   "id": "4fb0497f",
   "metadata": {},
   "outputs": [
    {
     "data": {
      "text/html": [
       "<div>\n",
       "<style scoped>\n",
       "    .dataframe tbody tr th:only-of-type {\n",
       "        vertical-align: middle;\n",
       "    }\n",
       "\n",
       "    .dataframe tbody tr th {\n",
       "        vertical-align: top;\n",
       "    }\n",
       "\n",
       "    .dataframe thead th {\n",
       "        text-align: right;\n",
       "    }\n",
       "</style>\n",
       "<table border=\"1\" class=\"dataframe\">\n",
       "  <thead>\n",
       "    <tr style=\"text-align: right;\">\n",
       "      <th></th>\n",
       "      <th>id_event</th>\n",
       "      <th>event_type</th>\n",
       "      <th>side</th>\n",
       "      <th>event_team</th>\n",
       "      <th>player</th>\n",
       "      <th>is_goal</th>\n",
       "      <th>assist_method</th>\n",
       "    </tr>\n",
       "  </thead>\n",
       "  <tbody>\n",
       "    <tr>\n",
       "      <th>0</th>\n",
       "      <td>UFot0hit1</td>\n",
       "      <td>1</td>\n",
       "      <td>2</td>\n",
       "      <td>Hamburg SV</td>\n",
       "      <td>mladen petric</td>\n",
       "      <td>0</td>\n",
       "      <td>1</td>\n",
       "    </tr>\n",
       "    <tr>\n",
       "      <th>1</th>\n",
       "      <td>UFot0hit2</td>\n",
       "      <td>2</td>\n",
       "      <td>1</td>\n",
       "      <td>Borussia Dortmund</td>\n",
       "      <td>dennis diekmeier</td>\n",
       "      <td>0</td>\n",
       "      <td>0</td>\n",
       "    </tr>\n",
       "    <tr>\n",
       "      <th>2</th>\n",
       "      <td>UFot0hit3</td>\n",
       "      <td>2</td>\n",
       "      <td>1</td>\n",
       "      <td>Borussia Dortmund</td>\n",
       "      <td>heiko westermann</td>\n",
       "      <td>0</td>\n",
       "      <td>0</td>\n",
       "    </tr>\n",
       "    <tr>\n",
       "      <th>3</th>\n",
       "      <td>UFot0hit4</td>\n",
       "      <td>3</td>\n",
       "      <td>1</td>\n",
       "      <td>Borussia Dortmund</td>\n",
       "      <td>sven bender</td>\n",
       "      <td>0</td>\n",
       "      <td>0</td>\n",
       "    </tr>\n",
       "    <tr>\n",
       "      <th>4</th>\n",
       "      <td>UFot0hit5</td>\n",
       "      <td>8</td>\n",
       "      <td>2</td>\n",
       "      <td>Hamburg SV</td>\n",
       "      <td>gokhan tore</td>\n",
       "      <td>0</td>\n",
       "      <td>0</td>\n",
       "    </tr>\n",
       "    <tr>\n",
       "      <th>...</th>\n",
       "      <td>...</td>\n",
       "      <td>...</td>\n",
       "      <td>...</td>\n",
       "      <td>...</td>\n",
       "      <td>...</td>\n",
       "      <td>...</td>\n",
       "      <td>...</td>\n",
       "    </tr>\n",
       "    <tr>\n",
       "      <th>941004</th>\n",
       "      <td>z5L2OT5E123</td>\n",
       "      <td>8</td>\n",
       "      <td>2</td>\n",
       "      <td>Sampdoria</td>\n",
       "      <td>lucas torreira</td>\n",
       "      <td>0</td>\n",
       "      <td>0</td>\n",
       "    </tr>\n",
       "    <tr>\n",
       "      <th>941005</th>\n",
       "      <td>z5L2OT5E124</td>\n",
       "      <td>2</td>\n",
       "      <td>2</td>\n",
       "      <td>Sampdoria</td>\n",
       "      <td>NaN</td>\n",
       "      <td>0</td>\n",
       "      <td>0</td>\n",
       "    </tr>\n",
       "    <tr>\n",
       "      <th>941006</th>\n",
       "      <td>z5L2OT5E125</td>\n",
       "      <td>1</td>\n",
       "      <td>2</td>\n",
       "      <td>Sampdoria</td>\n",
       "      <td>fabio quagliarella</td>\n",
       "      <td>0</td>\n",
       "      <td>1</td>\n",
       "    </tr>\n",
       "    <tr>\n",
       "      <th>941007</th>\n",
       "      <td>z5L2OT5E126</td>\n",
       "      <td>8</td>\n",
       "      <td>1</td>\n",
       "      <td>Atalanta</td>\n",
       "      <td>alberto grassi</td>\n",
       "      <td>0</td>\n",
       "      <td>0</td>\n",
       "    </tr>\n",
       "    <tr>\n",
       "      <th>941008</th>\n",
       "      <td>z5L2OT5E127</td>\n",
       "      <td>3</td>\n",
       "      <td>2</td>\n",
       "      <td>Sampdoria</td>\n",
       "      <td>pedro pereira</td>\n",
       "      <td>0</td>\n",
       "      <td>0</td>\n",
       "    </tr>\n",
       "  </tbody>\n",
       "</table>\n",
       "<p>941009 rows × 7 columns</p>\n",
       "</div>"
      ],
      "text/plain": [
       "           id_event  event_type  side         event_team              player  \\\n",
       "0         UFot0hit1           1     2         Hamburg SV       mladen petric   \n",
       "1         UFot0hit2           2     1  Borussia Dortmund    dennis diekmeier   \n",
       "2         UFot0hit3           2     1  Borussia Dortmund    heiko westermann   \n",
       "3         UFot0hit4           3     1  Borussia Dortmund         sven bender   \n",
       "4         UFot0hit5           8     2         Hamburg SV         gokhan tore   \n",
       "...             ...         ...   ...                ...                 ...   \n",
       "941004  z5L2OT5E123           8     2          Sampdoria      lucas torreira   \n",
       "941005  z5L2OT5E124           2     2          Sampdoria                 NaN   \n",
       "941006  z5L2OT5E125           1     2          Sampdoria  fabio quagliarella   \n",
       "941007  z5L2OT5E126           8     1           Atalanta      alberto grassi   \n",
       "941008  z5L2OT5E127           3     2          Sampdoria       pedro pereira   \n",
       "\n",
       "        is_goal  assist_method  \n",
       "0             0              1  \n",
       "1             0              0  \n",
       "2             0              0  \n",
       "3             0              0  \n",
       "4             0              0  \n",
       "...         ...            ...  \n",
       "941004        0              0  \n",
       "941005        0              0  \n",
       "941006        0              1  \n",
       "941007        0              0  \n",
       "941008        0              0  \n",
       "\n",
       "[941009 rows x 7 columns]"
      ]
     },
     "execution_count": 86,
     "metadata": {},
     "output_type": "execute_result"
    }
   ],
   "source": [
    "columns_remove = [\n",
    "    'id_odsp','sort_order','time' , 'text', 'opponent', 'player2', 'player_in',\n",
    "    'player_out', 'shot_place', 'shot_outcome', 'location',\n",
    "    'bodypart', 'situation', 'fast_break', 'event_type2'\n",
    "]\n",
    "\n",
    "# Remove columns, ignoring if any do not exist (avoids error)\n",
    "df_events = df_events.drop(columns=columns_remove, errors='ignore')\n",
    "df_events\n",
    "\n"
   ]
  },
  {
   "cell_type": "code",
   "execution_count": 87,
   "id": "86c18307",
   "metadata": {},
   "outputs": [
    {
     "name": "stdout",
     "output_type": "stream",
     "text": [
      "DF_EVENTS:\n",
      "(941009, 7)\n",
      "<class 'pandas.core.frame.DataFrame'>\n",
      "RangeIndex: 941009 entries, 0 to 941008\n",
      "Data columns (total 7 columns):\n",
      " #   Column         Non-Null Count   Dtype \n",
      "---  ------         --------------   ----- \n",
      " 0   id_event       941009 non-null  object\n",
      " 1   event_type     941009 non-null  int64 \n",
      " 2   side           941009 non-null  int64 \n",
      " 3   event_team     941009 non-null  object\n",
      " 4   player         880009 non-null  object\n",
      " 5   is_goal        941009 non-null  int64 \n",
      " 6   assist_method  941009 non-null  int64 \n",
      "dtypes: int64(4), object(3)\n",
      "memory usage: 50.3+ MB\n",
      "None\n"
     ]
    }
   ],
   "source": [
    "# Geral structure\n",
    "\n",
    "print(\"DF_EVENTS:\")\n",
    "print(df_events.shape)\n",
    "print(df_events.info())"
   ]
  },
  {
   "cell_type": "code",
   "execution_count": 88,
   "id": "0b353fb3",
   "metadata": {},
   "outputs": [
    {
     "name": "stdout",
     "output_type": "stream",
     "text": [
      "Null values in df_events:\n",
      "id_event             0\n",
      "event_type           0\n",
      "side                 0\n",
      "event_team           0\n",
      "player           61000\n",
      "is_goal              0\n",
      "assist_method        0\n",
      "dtype: int64\n"
     ]
    }
   ],
   "source": [
    "#Checking NULL values in df_events\n",
    "\n",
    "print(\"Null values in df_events:\")\n",
    "print(df_events.isnull().sum())"
   ]
  },
  {
   "cell_type": "code",
   "execution_count": 107,
   "id": "c508db39",
   "metadata": {},
   "outputs": [],
   "source": [
    "df_events.to_csv(\"cleaned_data.csv\", index=False)"
   ]
  },
  {
   "cell_type": "code",
   "execution_count": 89,
   "id": "a9bc4f64",
   "metadata": {},
   "outputs": [
    {
     "name": "stdout",
     "output_type": "stream",
     "text": [
      "Duplicates in df_events:\n",
      "0.00%\n"
     ]
    }
   ],
   "source": [
    "print(\"Duplicates in df_events:\")\n",
    "duplicates = df_events.duplicated().sum()\n",
    "total = len(df_events)\n",
    "percentage = (duplicates / total) * 100\n",
    "print(f\"{percentage:.2f}%\")"
   ]
  },
  {
   "cell_type": "code",
   "execution_count": 90,
   "id": "33f107ae",
   "metadata": {},
   "outputs": [
    {
     "name": "stdout",
     "output_type": "stream",
     "text": [
      "Unique values per column in df_events:\n",
      "id_event         941009\n",
      "event_type           11\n",
      "side                  2\n",
      "event_team          142\n",
      "player             6118\n",
      "is_goal               2\n",
      "assist_method         5\n",
      "dtype: int64\n"
     ]
    }
   ],
   "source": [
    "print(\"Unique values per column in df_events:\")\n",
    "print(df_events.nunique())"
   ]
  },
  {
   "cell_type": "code",
   "execution_count": 91,
   "id": "35df57e5",
   "metadata": {},
   "outputs": [
    {
     "name": "stdout",
     "output_type": "stream",
     "text": [
      "player\n",
      "lionel messi                205\n",
      "cristiano ronaldo           198\n",
      "zlatan ibrahimovic          153\n",
      "robert lewandowski          124\n",
      "edinson cavani              121\n",
      "gonzalo higuain             118\n",
      "pierreemerick aubameyang    100\n",
      "luis suarez                  96\n",
      "diego costa                  93\n",
      "alexandre lacazette          88\n",
      "Name: count, dtype: int64\n"
     ]
    }
   ],
   "source": [
    "#Q1 - Who is the top 10 goals scorers?\n",
    "\n",
    "#filter per events of goal\n",
    "goals_df = df_events[df_events['is_goal'] > 0]\n",
    "\n",
    "#counting goals by player\n",
    "top_scorers = goals_df['player'].value_counts().head(10)\n",
    "print(top_scorers)"
   ]
  },
  {
   "cell_type": "code",
   "execution_count": 92,
   "id": "99100fab",
   "metadata": {},
   "outputs": [
    {
     "data": {
      "text/plain": [
       "player\n",
       "lionel messi          205\n",
       "cristiano ronaldo     198\n",
       "zlatan ibrahimovic    153\n",
       "robert lewandowski    124\n",
       "edinson cavani        121\n",
       "                     ... \n",
       "anthony jung            1\n",
       "pablo caceres           1\n",
       "matthias ostrzolek      1\n",
       "paul seguin             1\n",
       "borja mayoral           1\n",
       "Name: count, Length: 3214, dtype: int64"
      ]
     },
     "execution_count": 92,
     "metadata": {},
     "output_type": "execute_result"
    }
   ],
   "source": [
    "goals = goals_df['player'].value_counts()\n",
    "goals\n"
   ]
  },
  {
   "cell_type": "code",
   "execution_count": 93,
   "id": "b2de42e0",
   "metadata": {},
   "outputs": [
    {
     "data": {
      "text/plain": [
       "Text(-3.6805555555555554, 0.5, 'Players')"
      ]
     },
     "execution_count": 93,
     "metadata": {},
     "output_type": "execute_result"
    },
    {
     "data": {
      "image/png": "[encoded data removed]",
      "text/plain": [
       "<Figure size 500x500 with 1 Axes>"
      ]
     },
     "metadata": {},
     "output_type": "display_data"
    }
   ],
   "source": [
    "sns.displot(data=goals, kde=True) #Showing with the grafic that most has the average scorer player\n",
    "plt.xlabel(\"Goals\")\n",
    "plt.ylabel(\"Players\")\n"
   ]
  },
  {
   "cell_type": "markdown",
   "id": "ba005fea",
   "metadata": {},
   "source": [
    "**Insighs:** *We can see from the grafic above that most of player has the goals average arounf of 25 goals.*"
   ]
  },
  {
   "cell_type": "code",
   "execution_count": 94,
   "id": "b5d20d86",
   "metadata": {},
   "outputs": [
    {
     "data": {
      "image/png": "[encoded data removed]",
      "text/plain": [
       "<Figure size 640x480 with 1 Axes>"
      ]
     },
     "metadata": {},
     "output_type": "display_data"
    }
   ],
   "source": [
    "#Showing the the result by batplot\n",
    "sns.barplot(x=top_scorers, y=top_scorers.index)\n",
    "plt.title(\"Top 10 Goal scorers\")\n",
    "plt.xlabel(\"Goals\")\n",
    "plt.ylabel(\"Players\")\n",
    "plt.show(10)"
   ]
  },
  {
   "cell_type": "markdown",
   "id": "17a15982",
   "metadata": {},
   "source": [
    "**Insights:** *Now, we can see visually who is the players and datas and the process to obtain then.*"
   ]
  },
  {
   "cell_type": "code",
   "execution_count": 95,
   "id": "506c8158",
   "metadata": {},
   "outputs": [
    {
     "name": "stdout",
     "output_type": "stream",
     "text": [
      "player\n",
      "cristiano ronaldo     862\n",
      "lionel messi          604\n",
      "robert lewandowski    541\n",
      "zlatan ibrahimovic    487\n",
      "edinson cavani        483\n",
      "Name: count, dtype: int64\n"
     ]
    }
   ],
   "source": [
    "#Q2 - Who is the top 10 goals assist?\n",
    "\n",
    "#filter per events of assist\n",
    "assist_df = df_events[df_events['assist_method']> 0]\n",
    "\n",
    "#counting assist by player \n",
    "top_assist = assist_df['player'].value_counts().head()\n",
    "print(top_assist)\n"
   ]
  },
  {
   "cell_type": "code",
   "execution_count": 96,
   "id": "56f19f89",
   "metadata": {},
   "outputs": [
    {
     "data": {
      "text/plain": [
       "Text(0, 0.5, 'Assistance')"
      ]
     },
     "execution_count": 96,
     "metadata": {},
     "output_type": "execute_result"
    },
    {
     "data": {
      "image/png": "[encoded data removed]",
      "text/plain": [
       "<Figure size 1000x600 with 1 Axes>"
      ]
     },
     "metadata": {},
     "output_type": "display_data"
    }
   ],
   "source": [
    "plt.figure(figsize=(10,6))\n",
    "sns.barplot(x=top_assist.index, y=top_assist)\n",
    "plt.title(\"Top 5 assist players\")\n",
    "plt.xlabel(\"Players\")\n",
    "plt.ylabel(\"Assistance\")"
   ]
  },
  {
   "cell_type": "markdown",
   "id": "ebfeea69",
   "metadata": {},
   "source": [
    "**Insights:** *With the two grafics (Top scorers and assist) we can see the good balance from two players Messi and Cristiano Ronaldo.*"
   ]
  },
  {
   "cell_type": "code",
   "execution_count": 97,
   "id": "16cf7799",
   "metadata": {},
   "outputs": [
    {
     "data": {
      "text/plain": [
       "event_team\n",
       "Chievo Verona    3159\n",
       "Genoa            3064\n",
       "Lazio            3057\n",
       "Espanyol         2982\n",
       "Toulouse         2960\n",
       "Name: count, dtype: int64"
      ]
     },
     "execution_count": 97,
     "metadata": {},
     "output_type": "execute_result"
    }
   ],
   "source": [
    "#Q3 - Which teams has received most fouls?\n",
    "\n",
    "#filter events of types of fault\n",
    "foul_df = df_events[df_events['event_type'] == 3] # 3 = index of foul in the game \n",
    "\n",
    "#counting fault per team\n",
    "foul_df = foul_df['event_team'].value_counts().head(5)\n",
    "foul_df\n"
   ]
  },
  {
   "cell_type": "code",
   "execution_count": 98,
   "id": "5287947d",
   "metadata": {},
   "outputs": [
    {
     "data": {
      "image/png": "[encoded data removed]",
      "text/plain": [
       "<Figure size 1000x600 with 1 Axes>"
      ]
     },
     "metadata": {},
     "output_type": "display_data"
    }
   ],
   "source": [
    "plt.figure(figsize=(10, 6))\n",
    "sns.barplot(x=foul_df.index, y=foul_df)\n",
    "plt.title(\"teams that commit the most fouls\")\n",
    "plt.xlabel(\"Teams\")\n",
    "plt.ylabel(\"Fouls\")\n",
    "plt.show()"
   ]
  },
  {
   "cell_type": "code",
   "execution_count": 99,
   "id": "d1ba2a43",
   "metadata": {},
   "outputs": [],
   "source": [
    "counts_side= df_events['side'].value_counts().rename(index={1: 'Goals at home', 2: 'Goals away'})\n",
    "counts_goals= df_events['is_goal'].value_counts().rename(index={0: 'no goal', 1: 'goal'})"
   ]
  },
  {
   "cell_type": "code",
   "execution_count": 100,
   "id": "69624f0c",
   "metadata": {},
   "outputs": [
    {
     "data": {
      "text/plain": [
       "side\n",
       "Goals at home    488224\n",
       "Goals away       452785\n",
       "Name: count, dtype: int64"
      ]
     },
     "execution_count": 100,
     "metadata": {},
     "output_type": "execute_result"
    }
   ],
   "source": [
    "counts_side\n"
   ]
  },
  {
   "cell_type": "code",
   "execution_count": 101,
   "id": "290a00c2",
   "metadata": {},
   "outputs": [
    {
     "data": {
      "text/plain": [
       "is_goal\n",
       "no goal    916563\n",
       "goal        24446\n",
       "Name: count, dtype: int64"
      ]
     },
     "execution_count": 101,
     "metadata": {},
     "output_type": "execute_result"
    }
   ],
   "source": [
    "counts_goals"
   ]
  },
  {
   "cell_type": "code",
   "execution_count": 102,
   "id": "a8c42cc7",
   "metadata": {},
   "outputs": [
    {
     "data": {
      "text/plain": [
       "Text(0.5, 1.0, 'Goals Rate')"
      ]
     },
     "execution_count": 102,
     "metadata": {},
     "output_type": "execute_result"
    },
    {
     "data": {
      "image/png": "[encoded data removed]",
      "text/plain": [
       "<Figure size 600x600 with 1 Axes>"
      ]
     },
     "metadata": {},
     "output_type": "display_data"
    }
   ],
   "source": [
    "plt.figure(figsize=(6, 6))\n",
    "plt.pie(counts_side, labels=counts_side.index)\n",
    "plt.title(\"Goals Rate\")\n",
    "\n"
   ]
  },
  {
   "cell_type": "code",
   "execution_count": 103,
   "id": "ebed657a",
   "metadata": {},
   "outputs": [
    {
     "data": {
      "text/plain": [
       "Text(0.5, 1.0, 'Proportion of goals and no goals of football matches: ')"
      ]
     },
     "execution_count": 103,
     "metadata": {},
     "output_type": "execute_result"
    },
    {
     "data": {
      "image/png": "[encoded data removed]",
      "text/plain": [
       "<Figure size 600x600 with 1 Axes>"
      ]
     },
     "metadata": {},
     "output_type": "display_data"
    }
   ],
   "source": [
    "plt.figure(figsize=(6, 6))\n",
    "plt.pie(counts_goals, labels=counts_goals.index)\n",
    "plt.title(\"Proportion of goals and no goals of football matches: \")"
   ]
  },
  {
   "cell_type": "markdown",
   "id": "9ccb0247",
   "metadata": {},
   "source": [
    "**Insights:** *From the grafic above is possible to see that most of football matches it was without goals.*"
   ]
  },
  {
   "cell_type": "code",
   "execution_count": 104,
   "id": "6b2affaf",
   "metadata": {},
   "outputs": [],
   "source": [
    "#Q4 and 5 - Which teams is the most victory at home and away?\n",
    "\n",
    "def get_most_victorious_teams(df_events):\n",
    "    \n",
    "    victory = df_events[df_events['side'] == 1] # 1 = wins at home , 2 = wins away\n",
    "    home_winners = victory['event_team'].value_counts().head(3) #event_team = events per team\n",
    "\n",
    "\n",
    "    victory = df_events[df_events['side'] == 2]\n",
    "    away_winners = victory['event_team'].value_counts().head(3)\n",
    "\n",
    "    return home_winners, away_winners"
   ]
  },
  {
   "cell_type": "code",
   "execution_count": 105,
   "id": "99db8d74",
   "metadata": {},
   "outputs": [
    {
     "name": "stdout",
     "output_type": "stream",
     "text": [
      "Most Home Victories:\n",
      "event_team\n",
      "Fiorentina     6161\n",
      "Real Madrid    6099\n",
      "Juventus       6090\n",
      "Name: count, dtype: int64\n",
      "Most Away victories:\n",
      "event_team\n",
      "Juventus      5964\n",
      "Fiorentina    5641\n",
      "AC Milan      5574\n",
      "Name: count, dtype: int64\n"
     ]
    }
   ],
   "source": [
    "home_winners , away_winners = get_most_victorious_teams(df_events)\n",
    "\n",
    "print(\"Most Home Victories:\")\n",
    "print(home_winners)\n",
    "\n",
    "print(\"Most Away victories:\")\n",
    "print(away_winners)"
   ]
  },
  {
   "cell_type": "code",
   "execution_count": 106,
   "id": "5454a0bf",
   "metadata": {},
   "outputs": [
    {
     "name": "stderr",
     "output_type": "stream",
     "text": [
      "C:\\Users\\vinyj\\AppData\\Local\\Temp\\ipykernel_34716\\3825087006.py:4: FutureWarning: \n",
      "\n",
      "Passing `palette` without assigning `hue` is deprecated and will be removed in v0.14.0. Assign the `x` variable to `hue` and set `legend=False` for the same effect.\n",
      "\n",
      "  sns.barplot(ax=axes[0], x=home_winners.index, y=home_winners.values, palette=\"Blues_d\")\n",
      "C:\\Users\\vinyj\\AppData\\Local\\Temp\\ipykernel_34716\\3825087006.py:11: FutureWarning: \n",
      "\n",
      "Passing `palette` without assigning `hue` is deprecated and will be removed in v0.14.0. Assign the `x` variable to `hue` and set `legend=False` for the same effect.\n",
      "\n",
      "  sns.barplot(ax=axes[1], x=away_winners.index, y=away_winners.values, palette=\"Greens_d\")\n"
     ]
    },
    {
     "data": {
      "image/png": "[encoded data removed]",
      "text/plain": [
       "<Figure size 1400x600 with 2 Axes>"
      ]
     },
     "metadata": {},
     "output_type": "display_data"
    }
   ],
   "source": [
    "fig, axes = plt.subplots(1, 2, figsize=(14, 6))\n",
    "\n",
    "# Grafic1 - Home winners \n",
    "sns.barplot(ax=axes[0], x=home_winners.index, y=home_winners.values, palette=\"Blues_d\")\n",
    "axes[0].set_title(\"Top 3 Home Winners\")\n",
    "axes[0].set_xlabel(\"Teams\")\n",
    "axes[0].set_ylabel(\"Wins\")\n",
    "axes[0].tick_params(axis='x', rotation=45)\n",
    "\n",
    "# Grafic 2 - Away winners \n",
    "sns.barplot(ax=axes[1], x=away_winners.index, y=away_winners.values, palette=\"Greens_d\")\n",
    "axes[1].set_title(\"Top 3 Away Winners\")\n",
    "axes[1].set_xlabel(\"Teams\")\n",
    "axes[1].set_ylabel(\"Wins\")\n",
    "axes[1].tick_params(axis='x', rotation=45)"
   ]
  },
  {
   "cell_type": "markdown",
   "id": "d6153003",
   "metadata": {},
   "source": [
    "**insights:** *We can see the  good balance about win the match at home or away from Fiorentina e Juventus.*"
   ]
  }
 ],
 "metadata": {
  "kernelspec": {
   "display_name": "Python 3",
   "language": "python",
   "name": "python3"
  },
  "language_info": {
   "codemirror_mode": {
    "name": "ipython",
    "version": 3
   },
   "file_extension": ".py",
   "mimetype": "text/x-python",
   "name": "python",
   "nbconvert_exporter": "python",
   "pygments_lexer": "ipython3",
   "version": "3.13.5"
  }
 },
 "nbformat": 4,
 "nbformat_minor": 5
}
